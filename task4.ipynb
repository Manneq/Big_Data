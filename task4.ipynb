{
 "cells": [
  {
   "cell_type": "markdown",
   "metadata": {},
   "source": [
    "# Task 4"
   ]
  },
  {
   "cell_type": "markdown",
   "metadata": {},
   "source": [
    "### Find emoticons in posts and post comments (negative, positive, neutral) (you can use external libraries or predefined emoticon lists) (use the spark udf and broadcast function for emoticons)"
   ]
  },
  {
   "cell_type": "code",
   "execution_count": 9,
   "metadata": {},
   "outputs": [],
   "source": [
    "import pyspark\n",
    "import pyspark.sql.functions\n",
    "import pyspark.sql.types\n",
    "import emojis\n",
    "import os"
   ]
  },
  {
   "cell_type": "code",
   "execution_count": 10,
   "metadata": {},
   "outputs": [],
   "source": [
    "# Configuration of SPARK_HOME system variable\n",
    "os.environ[\"SPARK_HOME\"] = \"C:/spark\""
   ]
  },
  {
   "cell_type": "code",
   "execution_count": 4,
   "metadata": {},
   "outputs": [],
   "source": [
    "# pyspark session and SQL context creation\n",
    "configs = pyspark.SparkConf().setAppName(\"task4\").setMaster(\"local\")\n",
    "spark_context = pyspark.SparkContext(conf=configs)\n",
    "spark = pyspark.sql.SparkSession(spark_context)\n",
    "sql_context = pyspark.sql.SQLContext(spark_context)"
   ]
  },
  {
   "cell_type": "code",
   "execution_count": 50,
   "metadata": {},
   "outputs": [],
   "source": [
    "# Function to extract emojis defenition\n",
    "emojis_extraction = \\\n",
    "    pyspark.sql.functions.udf(lambda text: list(emojis.get(text)), \n",
    "                              pyspark.sql.types.ArrayType(pyspark.sql.types.StringType()))"
   ]
  },
  {
   "cell_type": "code",
   "execution_count": 52,
   "metadata": {},
   "outputs": [
    {
     "name": "stdout",
     "output_type": "stream",
     "text": [
      "+---------+------------+\n",
      "|      key|      emojis|\n",
      "+---------+------------+\n",
      "|-94_14693|         [❗]|\n",
      "|-94_15804|      [🇮🇹]|\n",
      "|-94_16596|        [🎈]|\n",
      "|-94_17167|        [🎄]|\n",
      "|-94_17381|        [🎄]|\n",
      "|-94_17386|        [😺]|\n",
      "|-94_17432|    [🎄, 💌]|\n",
      "|-94_17447|        [🎓]|\n",
      "|-94_17483|        [👆]|\n",
      "|-94_17530|         [✨]|\n",
      "|-94_17584|        [👪]|\n",
      "|-94_17835|[🎨, 💐, 🌸]|\n",
      "|-94_18861|        [🎈]|\n",
      "|-94_20299|        [😊]|\n",
      "|-94_23588|        [😜]|\n",
      "|-94_23605|        [😉]|\n",
      "|-94_23722|        [😉]|\n",
      "|-94_26766|    [😃, 🚴]|\n",
      "|-94_26776|        [📌]|\n",
      "|-94_26794|        [🔎]|\n",
      "+---------+------------+\n",
      "only showing top 20 rows\n",
      "\n"
     ]
    }
   ],
   "source": [
    "# Posts data loading where text is not Null\n",
    "data_posts = sql_context.read.json(\"posts_api.json/*.json\").\\\n",
    "    where(pyspark.sql.functions.col(\"text\").isNotNull())\n",
    "\n",
    "# Emojis data creation\n",
    "data_emojis = data_posts.select(\"key\", emojis_extraction(\"text\").alias(\"emojis\")).\\\n",
    "    where(pyspark.sql.functions.size(pyspark.sql.functions.col(\"emojis\")) > 0).sort(\"key\")\n",
    "\n",
    "# Emojis data showing\n",
    "data_emojis.show()\n",
    "\n",
    "# Emojis data saving\n",
    "data_emojis.coalesce(1).write.format(\"json\").mode(\"overwrite\").save(\"task4_output.json\")"
   ]
  },
  {
   "cell_type": "code",
   "execution_count": null,
   "metadata": {},
   "outputs": [],
   "source": []
  }
 ],
 "metadata": {
  "kernelspec": {
   "display_name": "Python 3",
   "language": "python",
   "name": "python3"
  },
  "language_info": {
   "codemirror_mode": {
    "name": "ipython",
    "version": 3
   },
   "file_extension": ".py",
   "mimetype": "text/x-python",
   "name": "python",
   "nbconvert_exporter": "python",
   "pygments_lexer": "ipython3",
   "version": "3.7.6"
  }
 },
 "nbformat": 4,
 "nbformat_minor": 2
}
