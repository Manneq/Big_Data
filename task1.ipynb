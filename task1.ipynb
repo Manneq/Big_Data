{
 "cells": [
  {
   "cell_type": "markdown",
   "metadata": {},
   "source": [
    "# Task 1"
   ]
  },
  {
   "cell_type": "markdown",
   "metadata": {},
   "source": [
    "### Display the top 20 liked, commented, reposted posts by number (for all datasets with posts)"
   ]
  },
  {
   "cell_type": "code",
   "execution_count": 1,
   "metadata": {},
   "outputs": [],
   "source": [
    "import pyspark\n",
    "import os"
   ]
  },
  {
   "cell_type": "code",
   "execution_count": 2,
   "metadata": {},
   "outputs": [],
   "source": [
    "# Configuration of SPARK_HOME system variable\n",
    "os.environ[\"SPARK_HOME\"] = \"C:/spark\""
   ]
  },
  {
   "cell_type": "code",
   "execution_count": 3,
   "metadata": {},
   "outputs": [],
   "source": [
    "# pyspark session and SQL context creation\n",
    "configs = pyspark.SparkConf().setAppName(\"task1\").setMaster(\"local\")\n",
    "spark_context = pyspark.SparkContext(conf=configs)\n",
    "spark = pyspark.sql.SparkSession(spark_context)\n",
    "sql_context = pyspark.sql.SQLContext(spark_context)"
   ]
  },
  {
   "cell_type": "code",
   "execution_count": 4,
   "metadata": {},
   "outputs": [],
   "source": [
    "# Function to select top 20 posts by likes, comments and reposts   \n",
    "def top_posts_selection(load_path, name):\n",
    "    data = sql_context.read.json(load_path).na.drop(subset=[\"date\"])\n",
    "    \n",
    "    for column in [\"likes\", \"comments\", \"reposts\"]:\n",
    "        data_top = data.orderBy(data[column].desc(), asc=False).limit(20)\n",
    "        \n",
    "        # Top 20 posts by criteria saving\n",
    "        data_top.coalesce(1).write.format(\"json\").mode(\"overwrite\").\\\n",
    "            save(\"task1_output/\" + name + \"_top20_\" + column + \".json\")\n",
    "    \n",
    "    return"
   ]
  },
  {
   "cell_type": "code",
   "execution_count": 5,
   "metadata": {},
   "outputs": [],
   "source": [
    "# Top 20 posts selection by criteria for followers posts \n",
    "top_posts_selection(\"followers_posts_api_final.json/*.json\", \"followers_posts\")"
   ]
  },
  {
   "cell_type": "code",
   "execution_count": 6,
   "metadata": {},
   "outputs": [],
   "source": [
    "# Top 20 posts selection by criteria for posts\n",
    "top_posts_selection(\"posts_api.json/*.json\", \"posts\")"
   ]
  },
  {
   "cell_type": "code",
   "execution_count": null,
   "metadata": {},
   "outputs": [],
   "source": []
  }
 ],
 "metadata": {
  "kernelspec": {
   "display_name": "Python 3",
   "language": "python",
   "name": "python3"
  },
  "language_info": {
   "codemirror_mode": {
    "name": "ipython",
    "version": 3
   },
   "file_extension": ".py",
   "mimetype": "text/x-python",
   "name": "python",
   "nbconvert_exporter": "python",
   "pygments_lexer": "ipython3",
   "version": "3.7.6"
  }
 },
 "nbformat": 4,
 "nbformat_minor": 4
}
