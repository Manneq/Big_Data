{
 "cells": [
  {
   "cell_type": "markdown",
   "metadata": {},
   "source": [
    "# Task 3"
   ]
  },
  {
   "cell_type": "markdown",
   "metadata": {},
   "source": [
    "### Get reposts of the original posts of the itmo group (posts.json) from user posts (the result should be similar to (group_post_id, Array (user_post_ids)))"
   ]
  },
  {
   "cell_type": "code",
   "execution_count": 1,
   "metadata": {},
   "outputs": [],
   "source": [
    "import pyspark\n",
    "import pyspark.sql.functions\n",
    "import os"
   ]
  },
  {
   "cell_type": "code",
   "execution_count": 2,
   "metadata": {},
   "outputs": [],
   "source": [
    "# Configuration of SPARK_HOME system variable\n",
    "os.environ[\"SPARK_HOME\"] = \"C:/spark\""
   ]
  },
  {
   "cell_type": "code",
   "execution_count": 3,
   "metadata": {},
   "outputs": [],
   "source": [
    "# pyspark session and SQL context creation\n",
    "configs = pyspark.SparkConf().setAppName(\"task3\").setMaster(\"local\")\n",
    "spark_context = pyspark.SparkContext(conf=configs)\n",
    "spark = pyspark.sql.SparkSession(spark_context)\n",
    "sql_context = pyspark.sql.SQLContext(spark_context)"
   ]
  },
  {
   "cell_type": "code",
   "execution_count": 4,
   "metadata": {},
   "outputs": [
    {
     "name": "stdout",
     "output_type": "stream",
     "text": [
      "+-------------+--------------------------+\n",
      "|id_group_post|collect_list(id_user_post)|\n",
      "+-------------+--------------------------+\n",
      "|        38730|        [9523, 2590, 8187]|\n",
      "|        38738|                    [8188]|\n",
      "|        38740|      [1060, 31900, 113...|\n",
      "|        38748|                    [9574]|\n",
      "|        38751|                    [8054]|\n",
      "|        38754|                   [10318]|\n",
      "|        38755|                     [303]|\n",
      "|        38764|                    [5076]|\n",
      "|        38767|                [778, 364]|\n",
      "|        38791|                     [622]|\n",
      "|        38814|                    [9678]|\n",
      "|        38818|                    [9664]|\n",
      "|        38823|                    [3512]|\n",
      "|        38847|              [3373, 9697]|\n",
      "|        38854|                    [2613]|\n",
      "|        38857|                    [2618]|\n",
      "|        38858|                    [2620]|\n",
      "|        38859|                    [2633]|\n",
      "|        38862|                    [2642]|\n",
      "|        38867|              [2644, 2914]|\n",
      "+-------------+--------------------------+\n",
      "only showing top 20 rows\n",
      "\n"
     ]
    }
   ],
   "source": [
    "# Followers data loading\n",
    "data_followers = spark.read.load(\"followers.parquet/*.parquet\")\n",
    "\n",
    "# Followers posts loading and copy history extracting\n",
    "data_copy_history = sql_context.read.json(\"followers_posts_api_final.json/*.json\").\\\n",
    "    withColumn(\"copy_history\", pyspark.sql.functions.explode(\"copy_history\"))\n",
    "\n",
    "# Copy history filtering\n",
    "data_copy_history_filtered = data_copy_history.filter(\"copy_history.owner_id == '-94'\")\n",
    "\n",
    "# Reposts table creating similar to (group_post_id, Array (user_post_ids))\n",
    "data_reposts = data_copy_history_filtered.select(\n",
    "    data_copy_history_filtered.copy_history.id.alias(\"id_group_post\"), \n",
    "    data_copy_history_filtered.id.alias(\"id_user_post\")).sort(\"copy_history.id\").\\\n",
    "    groupby(\"id_group_post\").agg(pyspark.sql.functions.collect_list(\"id_user_post\")).\\\n",
    "    sort(\"id_group_post\")\n",
    "\n",
    "# Reposts showing\n",
    "data_reposts.show()\n",
    "\n",
    "# Reposts saving\n",
    "data_reposts.coalesce(1).write.format(\"json\").mode(\"overwrite\").save(\"task3_output.json\")"
   ]
  },
  {
   "cell_type": "code",
   "execution_count": null,
   "metadata": {},
   "outputs": [],
   "source": []
  }
 ],
 "metadata": {
  "kernelspec": {
   "display_name": "Python 3",
   "language": "python",
   "name": "python3"
  },
  "language_info": {
   "codemirror_mode": {
    "name": "ipython",
    "version": 3
   },
   "file_extension": ".py",
   "mimetype": "text/x-python",
   "name": "python",
   "nbconvert_exporter": "python",
   "pygments_lexer": "ipython3",
   "version": "3.7.6"
  }
 },
 "nbformat": 4,
 "nbformat_minor": 4
}
