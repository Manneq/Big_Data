{
 "cells": [
  {
   "cell_type": "markdown",
   "metadata": {},
   "source": [
    "# Task 6"
   ]
  },
  {
   "cell_type": "markdown",
   "metadata": {},
   "source": [
    "### Find fans/lovers. The idea is, if the user likes another posts, and its is not mutual, then the first fan/lover"
   ]
  },
  {
   "cell_type": "code",
   "execution_count": 1,
   "metadata": {},
   "outputs": [],
   "source": [
    "import pyspark\n",
    "import pyspark.sql.functions\n",
    "import os"
   ]
  },
  {
   "cell_type": "code",
   "execution_count": 2,
   "metadata": {},
   "outputs": [],
   "source": [
    "# Configuration of SPARK_HOME system variable\n",
    "os.environ[\"SPARK_HOME\"] = \"C:/spark\""
   ]
  },
  {
   "cell_type": "code",
   "execution_count": 3,
   "metadata": {},
   "outputs": [],
   "source": [
    "# pyspark session and SQL context creation\n",
    "configs = pyspark.SparkConf().setAppName(\"task6\").setMaster(\"local\")\n",
    "spark_context = pyspark.SparkContext(conf=configs)\n",
    "spark = pyspark.sql.SparkSession(spark_context)\n",
    "sql_context = pyspark.sql.SQLContext(spark_context)"
   ]
  },
  {
   "cell_type": "code",
   "execution_count": 10,
   "metadata": {},
   "outputs": [
    {
     "name": "stdout",
     "output_type": "stream",
     "text": [
      "+-------+--------------------+\n",
      "|id_user|collect_list(id_fan)|\n",
      "+-------+--------------------+\n",
      "|    637|[1217, 1255, 1751...|\n",
      "|   1087|[1818, 4177, 6308...|\n",
      "|   1119|[1099, 4836, 2237...|\n",
      "|   1127|[1567, 1679, 2282...|\n",
      "|   1174|[7627, 19755, 272...|\n",
      "|   1567|[1099, 1113, 1119...|\n",
      "|   1632|[42940, 68535, 75...|\n",
      "|   1669|[1216, 6107, 7068...|\n",
      "|   2212|[1099, 1405, 2767...|\n",
      "|   2718|[1105, 15275, 409...|\n",
      "|   2976|[2541, 3448, 5304...|\n",
      "|   3420|[1543, 1568, 2050...|\n",
      "|   3768|[25068229, 386898...|\n",
      "|   3868|[19249, 23678, 26...|\n",
      "|   3972|[1410, 34660, 482...|\n",
      "|   4023|[4734, 21272, 283...|\n",
      "|   4107|[6707, 7439, 3349...|\n",
      "|   4990|[277835, 286893, ...|\n",
      "|   5630|[105815, 7696061,...|\n",
      "|   5648|[1614, 1991, 3757...|\n",
      "+-------+--------------------+\n",
      "only showing top 20 rows\n",
      "\n"
     ]
    }
   ],
   "source": [
    "# Followers posts likes data loading, clearing from \n",
    "#'self likes' and repetitions in ownerId - likerId\n",
    "data_followers_posts_likes = spark.read.load(\"followers_posts_likes.parquet/*.parquet\").\\\n",
    "    select(\"ownerId\", \"likerId\").\\\n",
    "    where(pyspark.sql.functions.col(\"ownerId\") != pyspark.sql.functions.col(\"likerId\")).distinct()\n",
    "\n",
    "# Fans data creation: (id_user, Array (his_fan_ids))\n",
    "data_fans = data_followers_posts_likes.alias(\"t1\").\\\n",
    "    join(data_followers_posts_likes.alias(\"t2\"), \n",
    "         (pyspark.sql.functions.col(\"t1.ownerId\") == pyspark.sql.functions.col(\"t2.likerId\")) &\n",
    "         (pyspark.sql.functions.col(\"t1.likerId\") == pyspark.sql.functions.col(\"t2.ownerId\")), \n",
    "         \"left_outer\").\\\n",
    "    where(pyspark.sql.functions.col(\"t2.likerId\").isNull()).\\\n",
    "    select(pyspark.sql.functions.col(\"t1.ownerId\").alias(\"id_user\"), \n",
    "           pyspark.sql.functions.col(\"t1.likerId\").alias(\"id_fan\")).\\\n",
    "    sort(\"id_fan\").groupby(\"id_user\").agg(pyspark.sql.functions.collect_list(\"id_fan\")).sort(\"id_user\")\n",
    "\n",
    "# Fans data showing\n",
    "data_fans.show()\n",
    "\n",
    "# Fans data saving\n",
    "data_fans.coalesce(1).write.format(\"json\").save(\"task6_output.json\")"
   ]
  },
  {
   "cell_type": "code",
   "execution_count": null,
   "metadata": {},
   "outputs": [],
   "source": []
  }
 ],
 "metadata": {
  "kernelspec": {
   "display_name": "Python 3",
   "language": "python",
   "name": "python3"
  },
  "language_info": {
   "codemirror_mode": {
    "name": "ipython",
    "version": 3
   },
   "file_extension": ".py",
   "mimetype": "text/x-python",
   "name": "python",
   "nbconvert_exporter": "python",
   "pygments_lexer": "ipython3",
   "version": "3.7.6"
  }
 },
 "nbformat": 4,
 "nbformat_minor": 4
}
