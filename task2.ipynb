{
 "cells": [
  {
   "cell_type": "markdown",
   "metadata": {},
   "source": [
    "# Task 2"
   ]
  },
  {
   "cell_type": "markdown",
   "metadata": {},
   "source": [
    "### Display the top 20 users by likes and reposts made (for reposts use \"copy_history\", from the subset posts)"
   ]
  },
  {
   "cell_type": "code",
   "execution_count": 1,
   "metadata": {},
   "outputs": [],
   "source": [
    "import findspark\n",
    "import pyspark\n",
    "import pyspark.sql.functions\n",
    "import os"
   ]
  },
  {
   "cell_type": "code",
   "execution_count": 2,
   "metadata": {},
   "outputs": [],
   "source": [
    "# pyspark import as regular library\n",
    "os.environ[\"SPARK_HOME\"] = \"C:/spark\"\n",
    "findspark.init()"
   ]
  },
  {
   "cell_type": "code",
   "execution_count": 3,
   "metadata": {},
   "outputs": [],
   "source": [
    "# pyspark session and SQL context creation\n",
    "configs = pyspark.SparkConf().setAppName(\"task2\").setMaster(\"local\")\n",
    "spark_context = pyspark.SparkContext(conf=configs)\n",
    "spark = pyspark.sql.SparkSession(spark_context)\n",
    "sql_context = pyspark.sql.SQLContext(spark_context)"
   ]
  },
  {
   "cell_type": "code",
   "execution_count": 6,
   "metadata": {},
   "outputs": [
    {
     "name": "stdout",
     "output_type": "stream",
     "text": [
      "+---------+-----+\n",
      "|  likerId|count|\n",
      "+---------+-----+\n",
      "|  2070090| 4801|\n",
      "|  2397858| 2055|\n",
      "|  1475301| 1829|\n",
      "|    18239| 1569|\n",
      "|   546612| 1245|\n",
      "|     6371|  907|\n",
      "|  1841959|  746|\n",
      "| 78440957|  709|\n",
      "|   120248|  699|\n",
      "| 40981497|  611|\n",
      "|    22158|  553|\n",
      "|207628162|  548|\n",
      "|329377723|  504|\n",
      "| 76071304|  474|\n",
      "| 14805173|  440|\n",
      "|   317799|  385|\n",
      "| 56355640|  375|\n",
      "| 52042971|  338|\n",
      "|  7437271|  336|\n",
      "|136506644|  335|\n",
      "+---------+-----+\n",
      "\n"
     ]
    }
   ],
   "source": [
    "# Posts likes loading\n",
    "data_posts_likes = spark.read.load(\"posts_likes.parquet/*.parquet\")\n",
    "\n",
    "# Users likes counting and top 20 selecting\n",
    "data_likes_count = data_posts_likes.groupby(\"likerId\").count().\\\n",
    "    orderBy(pyspark.sql.functions.col(\"count\").desc(), asc=False).limit(20)\n",
    "\n",
    "# Top 20 users by likes showing\n",
    "data_likes_count.show()\n",
    "    \n",
    "# Top 20 users by likes saving\n",
    "data_likes_count.coalesce(1).write.format(\"json\").mode(\"overwrite\").\\\n",
    "    save(\"task2_output/top20_users_likes.json\")"
   ]
  },
  {
   "cell_type": "code",
   "execution_count": 8,
   "metadata": {},
   "outputs": [
    {
     "name": "stdout",
     "output_type": "stream",
     "text": [
      "+---------+-----+\n",
      "| owner_id|count|\n",
      "+---------+-----+\n",
      "|180907432|   48|\n",
      "|   317799|   16|\n",
      "|  4068532|   13|\n",
      "|  2547211|    9|\n",
      "|484122052|    8|\n",
      "|268247082|    5|\n",
      "|  1077823|    5|\n",
      "|  2070090|    5|\n",
      "|281951154|    5|\n",
      "|217400123|    4|\n",
      "|172808182|    4|\n",
      "|  1533614|    4|\n",
      "| 44361144|    4|\n",
      "|527580876|    4|\n",
      "|157728618|    4|\n",
      "| 18467645|    4|\n",
      "|168543860|    4|\n",
      "|   256973|    3|\n",
      "|    86002|    3|\n",
      "|113773552|    3|\n",
      "+---------+-----+\n",
      "\n"
     ]
    }
   ],
   "source": [
    "# Followers posts loading and copy history extracting\n",
    "data_copy_history = sql_context.read.json(\"followers_posts_api_final.json/*.json\").\\\n",
    "    withColumn(\"copy_history\", pyspark.sql.functions.explode(\"copy_history\"))\n",
    "\n",
    "# Users copy history counting and top 20 selecting\n",
    "data_copy_history_count = data_copy_history.filter(\"copy_history.owner_id == '-94'\").\\\n",
    "    groupby(\"owner_id\").count().sort(\"count\", ascending=False).limit(20)\n",
    "\n",
    "# Top 20 users by reposts showing\n",
    "data_copy_history_count.show()\n",
    "\n",
    "# Top 20 users by reposts saving   \n",
    "data_copy_history_count.coalesce(1).write.format(\"json\").mode(\"overwrite\").\\\n",
    "    save(\"task2_output/top20_users_reposts.json\")"
   ]
  },
  {
   "cell_type": "code",
   "execution_count": null,
   "metadata": {},
   "outputs": [],
   "source": []
  }
 ],
 "metadata": {
  "kernelspec": {
   "display_name": "Python 3",
   "language": "python",
   "name": "python3"
  },
  "language_info": {
   "codemirror_mode": {
    "name": "ipython",
    "version": 3
   },
   "file_extension": ".py",
   "mimetype": "text/x-python",
   "name": "python",
   "nbconvert_exporter": "python",
   "pygments_lexer": "ipython3",
   "version": "3.7.6"
  }
 },
 "nbformat": 4,
 "nbformat_minor": 4
}
