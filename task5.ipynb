{
 "cells": [
  {
   "cell_type": "markdown",
   "metadata": {},
   "source": [
    "# Task 5"
   ]
  },
  {
   "cell_type": "markdown",
   "metadata": {},
   "source": [
    "### Find friends. The idea is, if users like each other posts, then they are friends"
   ]
  },
  {
   "cell_type": "code",
   "execution_count": 1,
   "metadata": {},
   "outputs": [],
   "source": [
    "import findspark\n",
    "import pyspark\n",
    "import pyspark.sql.functions\n",
    "import os"
   ]
  },
  {
   "cell_type": "code",
   "execution_count": 2,
   "metadata": {},
   "outputs": [],
   "source": [
    "# pyspark import as regular library\n",
    "os.environ[\"SPARK_HOME\"] = \"C:/spark\"\n",
    "findspark.init()"
   ]
  },
  {
   "cell_type": "code",
   "execution_count": 3,
   "metadata": {},
   "outputs": [],
   "source": [
    "# pyspark session and SQL context creation\n",
    "configs = pyspark.SparkConf().setAppName(\"task5\").setMaster(\"local\")\n",
    "spark_context = pyspark.SparkContext(conf=configs)\n",
    "spark = pyspark.sql.SparkSession(spark_context)\n",
    "sql_context = pyspark.sql.SQLContext(spark_context)"
   ]
  },
  {
   "cell_type": "code",
   "execution_count": 10,
   "metadata": {},
   "outputs": [
    {
     "name": "stdout",
     "output_type": "stream",
     "text": [
      "+-------+-----------------------+\n",
      "|id_user|collect_list(id_friend)|\n",
      "+-------+-----------------------+\n",
      "|    637|   [1567, 94494, 815...|\n",
      "|   1119|              [2004962]|\n",
      "|   1127|   [27857, 317799, 2...|\n",
      "|   1174|   [2134327, 139499389]|\n",
      "|   1567|     [637, 2212, 94494]|\n",
      "|   2212|                 [1567]|\n",
      "|   4023|   [1548876, 1034920...|\n",
      "|   7373|   [180092, 317799, ...|\n",
      "|   8909|      [27905, 12742533]|\n",
      "|  12671|   [12977, 234753, 3...|\n",
      "|  12977|   [12671, 269559, 3...|\n",
      "|  15221|   [25554, 50601, 36...|\n",
      "|  18589|                [18751]|\n",
      "|  18751|                [18589]|\n",
      "|  18994|                [45781]|\n",
      "|  20972|                [29840]|\n",
      "|  21571|               [410199]|\n",
      "|  22304|   [27857, 507824, 3...|\n",
      "|  24147|   [27419, 81102, 42...|\n",
      "|  24770|              [4656597]|\n",
      "+-------+-----------------------+\n",
      "only showing top 20 rows\n",
      "\n"
     ]
    }
   ],
   "source": [
    "# Followers posts likes data loading, clearing from \n",
    "#'self likes' and repetitions in ownerId - likerId\n",
    "data_followers_posts_likes = spark.read.load(\"followers_posts_likes.parquet/*.parquet\").\\\n",
    "    select(\"ownerId\", \"likerId\").\\\n",
    "    where(pyspark.sql.functions.col(\"ownerId\") != pyspark.sql.functions.col(\"likerId\")).distinct()\n",
    "\n",
    "# Friends data creation: (id_user, Array (his_friend_ids))\n",
    "data_friends = data_followers_posts_likes.alias(\"t1\").\\\n",
    "    join(data_followers_posts_likes.alias(\"t2\"), \n",
    "         (pyspark.sql.functions.col(\"t1.ownerId\") == pyspark.sql.functions.col(\"t2.likerId\")) &\n",
    "         (pyspark.sql.functions.col(\"t1.likerId\") == pyspark.sql.functions.col(\"t2.ownerId\"))).\\\n",
    "    select(pyspark.sql.functions.col(\"t1.ownerId\").alias(\"id_user\"), \n",
    "           pyspark.sql.functions.col(\"t2.ownerId\").alias(\"id_friend\")).\\\n",
    "    sort(\"id_friend\").groupby(\"id_user\").agg(pyspark.sql.functions.collect_list(\"id_friend\")).sort(\"id_user\")\n",
    "\n",
    "# Friends data showing\n",
    "data_friends.show()\n",
    "\n",
    "# Friends data saving\n",
    "data_friends.coalesce(1).write.format(\"json\").mode(\"overwrite\").save(\"task5_output.json\")"
   ]
  },
  {
   "cell_type": "code",
   "execution_count": null,
   "metadata": {},
   "outputs": [],
   "source": []
  }
 ],
 "metadata": {
  "kernelspec": {
   "display_name": "Python 3",
   "language": "python",
   "name": "python3"
  },
  "language_info": {
   "codemirror_mode": {
    "name": "ipython",
    "version": 3
   },
   "file_extension": ".py",
   "mimetype": "text/x-python",
   "name": "python",
   "nbconvert_exporter": "python",
   "pygments_lexer": "ipython3",
   "version": "3.7.6"
  }
 },
 "nbformat": 4,
 "nbformat_minor": 4
}
